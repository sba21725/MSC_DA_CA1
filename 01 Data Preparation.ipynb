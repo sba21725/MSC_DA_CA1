{
 "cells": [
  {
   "cell_type": "code",
   "execution_count": 1,
   "id": "3b640eca",
   "metadata": {},
   "outputs": [],
   "source": [
    "# Data Preparation\n",
    "\n",
    "# Tourism in Ireland\n",
    "\n",
    "# Source\n",
    "# https://www.cso.ie/en/statistics/tourismandtravel/\n",
    "## Tourism and Travel\n",
    "### Household Travel Survey\n",
    "#### Household Travel Survey Quarter 3 2023\n",
    "\n",
    "# Datasets\n",
    "## Name HTQ01: Travel by Irish Residents - Reason for Journey\n",
    "## Filename: ./datasets/HTQ01.20240316T180315_TravelByIrishResidents_ReasonForJourney.csv"
   ]
  },
  {
   "cell_type": "code",
   "execution_count": 2,
   "id": "e2a69656",
   "metadata": {},
   "outputs": [],
   "source": [
    "import pandas as pd"
   ]
  },
  {
   "cell_type": "code",
   "execution_count": 7,
   "id": "3185a077",
   "metadata": {},
   "outputs": [],
   "source": [
    "ds1 = pd.read_csv(\"./datasets/HTQ01.20240316T180315_TravelByIrishResidents_ReasonForJourney.csv\")"
   ]
  },
  {
   "cell_type": "code",
   "execution_count": 8,
   "id": "485b2fb9",
   "metadata": {},
   "outputs": [
    {
     "data": {
      "text/html": [
       "<div>\n",
       "<style scoped>\n",
       "    .dataframe tbody tr th:only-of-type {\n",
       "        vertical-align: middle;\n",
       "    }\n",
       "\n",
       "    .dataframe tbody tr th {\n",
       "        vertical-align: top;\n",
       "    }\n",
       "\n",
       "    .dataframe thead th {\n",
       "        text-align: right;\n",
       "    }\n",
       "</style>\n",
       "<table border=\"1\" class=\"dataframe\">\n",
       "  <thead>\n",
       "    <tr style=\"text-align: right;\">\n",
       "      <th></th>\n",
       "      <th>STATISTIC</th>\n",
       "      <th>Statistic Label</th>\n",
       "      <th>TLIST(Q1)</th>\n",
       "      <th>Quarter</th>\n",
       "      <th>C02276V02746</th>\n",
       "      <th>Domestic</th>\n",
       "      <th>C02599V03153</th>\n",
       "      <th>Reason for Journey</th>\n",
       "      <th>UNIT</th>\n",
       "      <th>VALUE</th>\n",
       "    </tr>\n",
       "  </thead>\n",
       "  <tbody>\n",
       "    <tr>\n",
       "      <th>0</th>\n",
       "      <td>HTQ01C1</td>\n",
       "      <td>Number of Trips by Irish Residents</td>\n",
       "      <td>2000Q1</td>\n",
       "      <td>2000Q1</td>\n",
       "      <td>1</td>\n",
       "      <td>Domestic</td>\n",
       "      <td>-</td>\n",
       "      <td>All reasons for journey</td>\n",
       "      <td>Thousand</td>\n",
       "      <td>1169.0</td>\n",
       "    </tr>\n",
       "    <tr>\n",
       "      <th>1</th>\n",
       "      <td>HTQ01C1</td>\n",
       "      <td>Number of Trips by Irish Residents</td>\n",
       "      <td>2000Q1</td>\n",
       "      <td>2000Q1</td>\n",
       "      <td>1</td>\n",
       "      <td>Domestic</td>\n",
       "      <td>01</td>\n",
       "      <td>Holiday</td>\n",
       "      <td>Thousand</td>\n",
       "      <td>408.0</td>\n",
       "    </tr>\n",
       "    <tr>\n",
       "      <th>2</th>\n",
       "      <td>HTQ01C1</td>\n",
       "      <td>Number of Trips by Irish Residents</td>\n",
       "      <td>2000Q1</td>\n",
       "      <td>2000Q1</td>\n",
       "      <td>1</td>\n",
       "      <td>Domestic</td>\n",
       "      <td>02</td>\n",
       "      <td>Business</td>\n",
       "      <td>Thousand</td>\n",
       "      <td>161.0</td>\n",
       "    </tr>\n",
       "    <tr>\n",
       "      <th>3</th>\n",
       "      <td>HTQ01C1</td>\n",
       "      <td>Number of Trips by Irish Residents</td>\n",
       "      <td>2000Q1</td>\n",
       "      <td>2000Q1</td>\n",
       "      <td>1</td>\n",
       "      <td>Domestic</td>\n",
       "      <td>03</td>\n",
       "      <td>Visiting friends/relatives</td>\n",
       "      <td>Thousand</td>\n",
       "      <td>468.0</td>\n",
       "    </tr>\n",
       "    <tr>\n",
       "      <th>4</th>\n",
       "      <td>HTQ01C1</td>\n",
       "      <td>Number of Trips by Irish Residents</td>\n",
       "      <td>2000Q1</td>\n",
       "      <td>2000Q1</td>\n",
       "      <td>1</td>\n",
       "      <td>Domestic</td>\n",
       "      <td>08</td>\n",
       "      <td>Other reasons</td>\n",
       "      <td>Thousand</td>\n",
       "      <td>132.0</td>\n",
       "    </tr>\n",
       "  </tbody>\n",
       "</table>\n",
       "</div>"
      ],
      "text/plain": [
       "  STATISTIC                     Statistic Label TLIST(Q1) Quarter  \\\n",
       "0   HTQ01C1  Number of Trips by Irish Residents    2000Q1  2000Q1   \n",
       "1   HTQ01C1  Number of Trips by Irish Residents    2000Q1  2000Q1   \n",
       "2   HTQ01C1  Number of Trips by Irish Residents    2000Q1  2000Q1   \n",
       "3   HTQ01C1  Number of Trips by Irish Residents    2000Q1  2000Q1   \n",
       "4   HTQ01C1  Number of Trips by Irish Residents    2000Q1  2000Q1   \n",
       "\n",
       "   C02276V02746  Domestic C02599V03153          Reason for Journey      UNIT  \\\n",
       "0             1  Domestic            -     All reasons for journey  Thousand   \n",
       "1             1  Domestic           01                     Holiday  Thousand   \n",
       "2             1  Domestic           02                    Business  Thousand   \n",
       "3             1  Domestic           03  Visiting friends/relatives  Thousand   \n",
       "4             1  Domestic           08               Other reasons  Thousand   \n",
       "\n",
       "    VALUE  \n",
       "0  1169.0  \n",
       "1   408.0  \n",
       "2   161.0  \n",
       "3   468.0  \n",
       "4   132.0  "
      ]
     },
     "execution_count": 8,
     "metadata": {},
     "output_type": "execute_result"
    }
   ],
   "source": [
    "ds1.head()"
   ]
  },
  {
   "cell_type": "code",
   "execution_count": 9,
   "id": "63458ccd",
   "metadata": {},
   "outputs": [
    {
     "data": {
      "text/plain": [
       "(3480, 10)"
      ]
     },
     "execution_count": 9,
     "metadata": {},
     "output_type": "execute_result"
    }
   ],
   "source": [
    "ds1.shape"
   ]
  },
  {
   "cell_type": "code",
   "execution_count": 10,
   "id": "cff94566",
   "metadata": {},
   "outputs": [
    {
     "name": "stdout",
     "output_type": "stream",
     "text": [
      "<class 'pandas.core.frame.DataFrame'>\n",
      "RangeIndex: 3480 entries, 0 to 3479\n",
      "Data columns (total 10 columns):\n",
      " #   Column              Non-Null Count  Dtype  \n",
      "---  ------              --------------  -----  \n",
      " 0   STATISTIC           3480 non-null   object \n",
      " 1   Statistic Label     3480 non-null   object \n",
      " 2   TLIST(Q1)           3480 non-null   object \n",
      " 3   Quarter             3480 non-null   object \n",
      " 4   C02276V02746        3480 non-null   int64  \n",
      " 5   Domestic            3480 non-null   object \n",
      " 6   C02599V03153        3480 non-null   object \n",
      " 7   Reason for Journey  3480 non-null   object \n",
      " 8   UNIT                3480 non-null   object \n",
      " 9   VALUE               3416 non-null   float64\n",
      "dtypes: float64(1), int64(1), object(8)\n",
      "memory usage: 272.0+ KB\n"
     ]
    }
   ],
   "source": [
    "ds1.info()"
   ]
  },
  {
   "cell_type": "code",
   "execution_count": null,
   "id": "ca86fca9",
   "metadata": {},
   "outputs": [],
   "source": [
    "# "
   ]
  }
 ],
 "metadata": {
  "kernelspec": {
   "display_name": "Python 3 (ipykernel)",
   "language": "python",
   "name": "python3"
  },
  "language_info": {
   "codemirror_mode": {
    "name": "ipython",
    "version": 3
   },
   "file_extension": ".py",
   "mimetype": "text/x-python",
   "name": "python",
   "nbconvert_exporter": "python",
   "pygments_lexer": "ipython3",
   "version": "3.11.5"
  }
 },
 "nbformat": 4,
 "nbformat_minor": 5
}
