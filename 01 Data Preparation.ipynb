{
 "cells": [
  {
   "cell_type": "code",
   "execution_count": 1,
   "id": "42d38195",
   "metadata": {},
   "outputs": [],
   "source": [
    "# Data Preparation\n",
    "\n",
    "# Tourism in Ireland\n",
    "\n",
    "# Sources\n",
    "# https://www.cso.ie/en/statistics/tourismandtravel/\n",
    "## Tourism and Travel\n",
    "### Household Travel Survey\n",
    "#### Household Travel Survey Quarter 3 2023\n",
    "##### "
   ]
  },
  {
   "cell_type": "code",
   "execution_count": null,
   "id": "b6326e5e",
   "metadata": {},
   "outputs": [],
   "source": []
  }
 ],
 "metadata": {
  "kernelspec": {
   "display_name": "Python 3 (ipykernel)",
   "language": "python",
   "name": "python3"
  },
  "language_info": {
   "codemirror_mode": {
    "name": "ipython",
    "version": 3
   },
   "file_extension": ".py",
   "mimetype": "text/x-python",
   "name": "python",
   "nbconvert_exporter": "python",
   "pygments_lexer": "ipython3",
   "version": "3.11.5"
  }
 },
 "nbformat": 4,
 "nbformat_minor": 5
}
