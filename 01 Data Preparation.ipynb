{
 "cells": [
  {
   "cell_type": "code",
   "execution_count": 1,
   "id": "fd3d91c1",
   "metadata": {},
   "outputs": [],
   "source": [
    "# Data Preparation\n",
    "\n",
    "# Tourism in Ireland\n",
    "\n",
    "# Source 1\n",
    "# https://www.cso.ie/en/statistics/tourismandtravel/\n",
    "## Tourism and Travel\n",
    "### Household Travel Survey\n",
    "#### Household Travel Survey Quarter 3 2023\n",
    "\n",
    "# Datasets\n",
    "## Name HTQ01: Travel by Irish Residents - Reason for Journey\n",
    "## Filename: ./datasets/HTQ01.20240316T180315_TravelByIrishResidents_ReasonForJourney.csv\n",
    "\n",
    "# Name HTQ17: Domestic Travel by Irish Residents - Reason for Journey, Region Visited\n",
    "## Filename: ./datasets/HTQ17.20240317T090350_DomesticTravelByIrishResidents_ReasonDestination.csv\n",
    "\n",
    "# Source 2\n",
    "# https://www.failteireland.ie/Research-and-Insights.aspx\n",
    "\n",
    "# Source 3\n",
    "# https://www.tourismireland.com/research-and-insights#/\n"
   ]
  },
  {
   "cell_type": "code",
   "execution_count": 2,
   "id": "c885659f",
   "metadata": {},
   "outputs": [],
   "source": [
    "import pandas as pd"
   ]
  },
  {
   "cell_type": "code",
   "execution_count": 7,
   "id": "ab3b45ce",
   "metadata": {},
   "outputs": [],
   "source": [
    "ds1 = pd.read_csv(\"./datasets/HTQ01.20240316T180315_TravelByIrishResidents_ReasonForJourney.csv\")"
   ]
  },
  {
   "cell_type": "code",
   "execution_count": 8,
   "id": "c730bc7d",
   "metadata": {},
   "outputs": [
    {
     "data": {
      "text/html": [
       "<div>\n",
       "<style scoped>\n",
       "    .dataframe tbody tr th:only-of-type {\n",
       "        vertical-align: middle;\n",
       "    }\n",
       "\n",
       "    .dataframe tbody tr th {\n",
       "        vertical-align: top;\n",
       "    }\n",
       "\n",
       "    .dataframe thead th {\n",
       "        text-align: right;\n",
       "    }\n",
       "</style>\n",
       "<table border=\"1\" class=\"dataframe\">\n",
       "  <thead>\n",
       "    <tr style=\"text-align: right;\">\n",
       "      <th></th>\n",
       "      <th>STATISTIC</th>\n",
       "      <th>Statistic Label</th>\n",
       "      <th>TLIST(Q1)</th>\n",
       "      <th>Quarter</th>\n",
       "      <th>C02276V02746</th>\n",
       "      <th>Domestic</th>\n",
       "      <th>C02599V03153</th>\n",
       "      <th>Reason for Journey</th>\n",
       "      <th>UNIT</th>\n",
       "      <th>VALUE</th>\n",
       "    </tr>\n",
       "  </thead>\n",
       "  <tbody>\n",
       "    <tr>\n",
       "      <th>0</th>\n",
       "      <td>HTQ01C1</td>\n",
       "      <td>Number of Trips by Irish Residents</td>\n",
       "      <td>2000Q1</td>\n",
       "      <td>2000Q1</td>\n",
       "      <td>1</td>\n",
       "      <td>Domestic</td>\n",
       "      <td>-</td>\n",
       "      <td>All reasons for journey</td>\n",
       "      <td>Thousand</td>\n",
       "      <td>1169.0</td>\n",
       "    </tr>\n",
       "    <tr>\n",
       "      <th>1</th>\n",
       "      <td>HTQ01C1</td>\n",
       "      <td>Number of Trips by Irish Residents</td>\n",
       "      <td>2000Q1</td>\n",
       "      <td>2000Q1</td>\n",
       "      <td>1</td>\n",
       "      <td>Domestic</td>\n",
       "      <td>01</td>\n",
       "      <td>Holiday</td>\n",
       "      <td>Thousand</td>\n",
       "      <td>408.0</td>\n",
       "    </tr>\n",
       "    <tr>\n",
       "      <th>2</th>\n",
       "      <td>HTQ01C1</td>\n",
       "      <td>Number of Trips by Irish Residents</td>\n",
       "      <td>2000Q1</td>\n",
       "      <td>2000Q1</td>\n",
       "      <td>1</td>\n",
       "      <td>Domestic</td>\n",
       "      <td>02</td>\n",
       "      <td>Business</td>\n",
       "      <td>Thousand</td>\n",
       "      <td>161.0</td>\n",
       "    </tr>\n",
       "    <tr>\n",
       "      <th>3</th>\n",
       "      <td>HTQ01C1</td>\n",
       "      <td>Number of Trips by Irish Residents</td>\n",
       "      <td>2000Q1</td>\n",
       "      <td>2000Q1</td>\n",
       "      <td>1</td>\n",
       "      <td>Domestic</td>\n",
       "      <td>03</td>\n",
       "      <td>Visiting friends/relatives</td>\n",
       "      <td>Thousand</td>\n",
       "      <td>468.0</td>\n",
       "    </tr>\n",
       "    <tr>\n",
       "      <th>4</th>\n",
       "      <td>HTQ01C1</td>\n",
       "      <td>Number of Trips by Irish Residents</td>\n",
       "      <td>2000Q1</td>\n",
       "      <td>2000Q1</td>\n",
       "      <td>1</td>\n",
       "      <td>Domestic</td>\n",
       "      <td>08</td>\n",
       "      <td>Other reasons</td>\n",
       "      <td>Thousand</td>\n",
       "      <td>132.0</td>\n",
       "    </tr>\n",
       "  </tbody>\n",
       "</table>\n",
       "</div>"
      ],
      "text/plain": [
       "  STATISTIC                     Statistic Label TLIST(Q1) Quarter  \\\n",
       "0   HTQ01C1  Number of Trips by Irish Residents    2000Q1  2000Q1   \n",
       "1   HTQ01C1  Number of Trips by Irish Residents    2000Q1  2000Q1   \n",
       "2   HTQ01C1  Number of Trips by Irish Residents    2000Q1  2000Q1   \n",
       "3   HTQ01C1  Number of Trips by Irish Residents    2000Q1  2000Q1   \n",
       "4   HTQ01C1  Number of Trips by Irish Residents    2000Q1  2000Q1   \n",
       "\n",
       "   C02276V02746  Domestic C02599V03153          Reason for Journey      UNIT  \\\n",
       "0             1  Domestic            -     All reasons for journey  Thousand   \n",
       "1             1  Domestic           01                     Holiday  Thousand   \n",
       "2             1  Domestic           02                    Business  Thousand   \n",
       "3             1  Domestic           03  Visiting friends/relatives  Thousand   \n",
       "4             1  Domestic           08               Other reasons  Thousand   \n",
       "\n",
       "    VALUE  \n",
       "0  1169.0  \n",
       "1   408.0  \n",
       "2   161.0  \n",
       "3   468.0  \n",
       "4   132.0  "
      ]
     },
     "execution_count": 8,
     "metadata": {},
     "output_type": "execute_result"
    }
   ],
   "source": [
    "ds1.head()"
   ]
  },
  {
   "cell_type": "code",
   "execution_count": 9,
   "id": "9927ec16",
   "metadata": {},
   "outputs": [
    {
     "data": {
      "text/plain": [
       "(3480, 10)"
      ]
     },
     "execution_count": 9,
     "metadata": {},
     "output_type": "execute_result"
    }
   ],
   "source": [
    "ds1.shape"
   ]
  },
  {
   "cell_type": "code",
   "execution_count": 10,
   "id": "ba5499d0",
   "metadata": {},
   "outputs": [
    {
     "name": "stdout",
     "output_type": "stream",
     "text": [
      "<class 'pandas.core.frame.DataFrame'>\n",
      "RangeIndex: 3480 entries, 0 to 3479\n",
      "Data columns (total 10 columns):\n",
      " #   Column              Non-Null Count  Dtype  \n",
      "---  ------              --------------  -----  \n",
      " 0   STATISTIC           3480 non-null   object \n",
      " 1   Statistic Label     3480 non-null   object \n",
      " 2   TLIST(Q1)           3480 non-null   object \n",
      " 3   Quarter             3480 non-null   object \n",
      " 4   C02276V02746        3480 non-null   int64  \n",
      " 5   Domestic            3480 non-null   object \n",
      " 6   C02599V03153        3480 non-null   object \n",
      " 7   Reason for Journey  3480 non-null   object \n",
      " 8   UNIT                3480 non-null   object \n",
      " 9   VALUE               3416 non-null   float64\n",
      "dtypes: float64(1), int64(1), object(8)\n",
      "memory usage: 272.0+ KB\n"
     ]
    }
   ],
   "source": [
    "ds1.info()"
   ]
  },
  {
   "cell_type": "code",
   "execution_count": 11,
   "id": "c788f67d",
   "metadata": {},
   "outputs": [],
   "source": [
    "# Data seems clean"
   ]
  },
  {
   "cell_type": "code",
   "execution_count": 14,
   "id": "e078cb30",
   "metadata": {},
   "outputs": [],
   "source": [
    "ds2 = pd.read_csv(\"./datasets/HTQ17.20240317T090350_DomesticTravelByIrishResidents_ReasonDestination.csv\")"
   ]
  },
  {
   "cell_type": "code",
   "execution_count": 15,
   "id": "32ce2895",
   "metadata": {},
   "outputs": [
    {
     "data": {
      "text/html": [
       "<div>\n",
       "<style scoped>\n",
       "    .dataframe tbody tr th:only-of-type {\n",
       "        vertical-align: middle;\n",
       "    }\n",
       "\n",
       "    .dataframe tbody tr th {\n",
       "        vertical-align: top;\n",
       "    }\n",
       "\n",
       "    .dataframe thead th {\n",
       "        text-align: right;\n",
       "    }\n",
       "</style>\n",
       "<table border=\"1\" class=\"dataframe\">\n",
       "  <thead>\n",
       "    <tr style=\"text-align: right;\">\n",
       "      <th></th>\n",
       "      <th>STATISTIC</th>\n",
       "      <th>Statistic Label</th>\n",
       "      <th>TLIST(Q1)</th>\n",
       "      <th>Quarter</th>\n",
       "      <th>C02599V03153</th>\n",
       "      <th>Reason for Journey</th>\n",
       "      <th>C02196V04140</th>\n",
       "      <th>Region Visited</th>\n",
       "      <th>UNIT</th>\n",
       "      <th>VALUE</th>\n",
       "    </tr>\n",
       "  </thead>\n",
       "  <tbody>\n",
       "    <tr>\n",
       "      <th>0</th>\n",
       "      <td>HTQ17C01</td>\n",
       "      <td>Number of Trips by Irish Residents</td>\n",
       "      <td>20181</td>\n",
       "      <td>2018Q1</td>\n",
       "      <td>-</td>\n",
       "      <td>All reasons for journey</td>\n",
       "      <td>-</td>\n",
       "      <td>State</td>\n",
       "      <td>Thousand</td>\n",
       "      <td>2118.0</td>\n",
       "    </tr>\n",
       "    <tr>\n",
       "      <th>1</th>\n",
       "      <td>HTQ17C01</td>\n",
       "      <td>Number of Trips by Irish Residents</td>\n",
       "      <td>20181</td>\n",
       "      <td>2018Q1</td>\n",
       "      <td>-</td>\n",
       "      <td>All reasons for journey</td>\n",
       "      <td>IE04</td>\n",
       "      <td>Northern and Western</td>\n",
       "      <td>Thousand</td>\n",
       "      <td>431.0</td>\n",
       "    </tr>\n",
       "    <tr>\n",
       "      <th>2</th>\n",
       "      <td>HTQ17C01</td>\n",
       "      <td>Number of Trips by Irish Residents</td>\n",
       "      <td>20181</td>\n",
       "      <td>2018Q1</td>\n",
       "      <td>-</td>\n",
       "      <td>All reasons for journey</td>\n",
       "      <td>IE041</td>\n",
       "      <td>Border</td>\n",
       "      <td>Thousand</td>\n",
       "      <td>NaN</td>\n",
       "    </tr>\n",
       "    <tr>\n",
       "      <th>3</th>\n",
       "      <td>HTQ17C01</td>\n",
       "      <td>Number of Trips by Irish Residents</td>\n",
       "      <td>20181</td>\n",
       "      <td>2018Q1</td>\n",
       "      <td>-</td>\n",
       "      <td>All reasons for journey</td>\n",
       "      <td>IE042</td>\n",
       "      <td>West</td>\n",
       "      <td>Thousand</td>\n",
       "      <td>NaN</td>\n",
       "    </tr>\n",
       "    <tr>\n",
       "      <th>4</th>\n",
       "      <td>HTQ17C01</td>\n",
       "      <td>Number of Trips by Irish Residents</td>\n",
       "      <td>20181</td>\n",
       "      <td>2018Q1</td>\n",
       "      <td>-</td>\n",
       "      <td>All reasons for journey</td>\n",
       "      <td>IE05</td>\n",
       "      <td>Southern</td>\n",
       "      <td>Thousand</td>\n",
       "      <td>1038.0</td>\n",
       "    </tr>\n",
       "  </tbody>\n",
       "</table>\n",
       "</div>"
      ],
      "text/plain": [
       "  STATISTIC                     Statistic Label  TLIST(Q1) Quarter  \\\n",
       "0  HTQ17C01  Number of Trips by Irish Residents      20181  2018Q1   \n",
       "1  HTQ17C01  Number of Trips by Irish Residents      20181  2018Q1   \n",
       "2  HTQ17C01  Number of Trips by Irish Residents      20181  2018Q1   \n",
       "3  HTQ17C01  Number of Trips by Irish Residents      20181  2018Q1   \n",
       "4  HTQ17C01  Number of Trips by Irish Residents      20181  2018Q1   \n",
       "\n",
       "  C02599V03153       Reason for Journey C02196V04140        Region Visited  \\\n",
       "0            -  All reasons for journey            -                 State   \n",
       "1            -  All reasons for journey         IE04  Northern and Western   \n",
       "2            -  All reasons for journey        IE041                Border   \n",
       "3            -  All reasons for journey        IE042                  West   \n",
       "4            -  All reasons for journey         IE05              Southern   \n",
       "\n",
       "       UNIT   VALUE  \n",
       "0  Thousand  2118.0  \n",
       "1  Thousand   431.0  \n",
       "2  Thousand     NaN  \n",
       "3  Thousand     NaN  \n",
       "4  Thousand  1038.0  "
      ]
     },
     "execution_count": 15,
     "metadata": {},
     "output_type": "execute_result"
    }
   ],
   "source": [
    "ds2.head()"
   ]
  },
  {
   "cell_type": "code",
   "execution_count": null,
   "id": "dce773a6",
   "metadata": {},
   "outputs": [],
   "source": []
  },
  {
   "cell_type": "code",
   "execution_count": 16,
   "id": "bdfa7a1a",
   "metadata": {},
   "outputs": [
    {
     "data": {
      "text/plain": [
       "Reason for Journey\n",
       "All reasons for journey       828\n",
       "Holiday                       828\n",
       "Business                      828\n",
       "Visiting friends/relatives    828\n",
       "Other reasons                 828\n",
       "Name: count, dtype: int64"
      ]
     },
     "execution_count": 16,
     "metadata": {},
     "output_type": "execute_result"
    }
   ],
   "source": [
    "ds2[\"Reason for Journey\"].value_counts()"
   ]
  },
  {
   "cell_type": "code",
   "execution_count": 17,
   "id": "588edbf3",
   "metadata": {},
   "outputs": [
    {
     "data": {
      "text/plain": [
       "Quarter\n",
       "2018Q1    180\n",
       "2021Q1    180\n",
       "2023Q2    180\n",
       "2023Q1    180\n",
       "2022Q4    180\n",
       "2022Q3    180\n",
       "2022Q2    180\n",
       "2022Q1    180\n",
       "2021Q4    180\n",
       "2021Q3    180\n",
       "2021Q2    180\n",
       "2020Q4    180\n",
       "2018Q2    180\n",
       "2020Q3    180\n",
       "2020Q2    180\n",
       "2020Q1    180\n",
       "2019Q4    180\n",
       "2019Q3    180\n",
       "2019Q2    180\n",
       "2019Q1    180\n",
       "2018Q4    180\n",
       "2018Q3    180\n",
       "2023Q3    180\n",
       "Name: count, dtype: int64"
      ]
     },
     "execution_count": 17,
     "metadata": {},
     "output_type": "execute_result"
    }
   ],
   "source": [
    "ds2[\"Quarter\"].value_counts()"
   ]
  },
  {
   "cell_type": "code",
   "execution_count": 18,
   "id": "0c746831",
   "metadata": {},
   "outputs": [
    {
     "data": {
      "text/plain": [
       "Region Visited\n",
       "State                   345\n",
       "Northern and Western    345\n",
       "Border                  345\n",
       "West                    345\n",
       "Southern                345\n",
       "Mid-West                345\n",
       "South-East              345\n",
       "South-West              345\n",
       "Eastern and Midland     345\n",
       "Dublin                  345\n",
       "Mid-East                345\n",
       "Midland                 345\n",
       "Name: count, dtype: int64"
      ]
     },
     "execution_count": 18,
     "metadata": {},
     "output_type": "execute_result"
    }
   ],
   "source": [
    "ds2[\"Region Visited\"].value_counts()"
   ]
  },
  {
   "cell_type": "code",
   "execution_count": 20,
   "id": "6830368a",
   "metadata": {},
   "outputs": [
    {
     "data": {
      "text/plain": [
       "2823"
      ]
     },
     "execution_count": 20,
     "metadata": {},
     "output_type": "execute_result"
    }
   ],
   "source": [
    "ds2[\"VALUE\"].isnull().sum()"
   ]
  },
  {
   "cell_type": "code",
   "execution_count": null,
   "id": "7b260a4f",
   "metadata": {},
   "outputs": [],
   "source": []
  }
 ],
 "metadata": {
  "kernelspec": {
   "display_name": "Python 3 (ipykernel)",
   "language": "python",
   "name": "python3"
  },
  "language_info": {
   "codemirror_mode": {
    "name": "ipython",
    "version": 3
   },
   "file_extension": ".py",
   "mimetype": "text/x-python",
   "name": "python",
   "nbconvert_exporter": "python",
   "pygments_lexer": "ipython3",
   "version": "3.11.5"
  }
 },
 "nbformat": 4,
 "nbformat_minor": 5
}
