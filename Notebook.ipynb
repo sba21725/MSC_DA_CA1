{
 "cells": [
  {
   "cell_type": "markdown",
   "id": "124ed12d",
   "metadata": {},
   "source": [
    "# Python Preparation"
   ]
  },
  {
   "cell_type": "code",
   "execution_count": 1,
   "id": "04a98120",
   "metadata": {},
   "outputs": [],
   "source": [
    "import matplotlib.pyplot as plt\n",
    "import numpy as np\n",
    "import pandas as pd\n",
    "import seaborn as sns\n",
    "import statistics as stats\n",
    "\n",
    "from skimpy import skim\n",
    "\n",
    "from scipy.stats import poisson\n",
    "\n",
    "from sklearn.ensemble import RandomForestRegressor\n",
    "from sklearn.linear_model import LinearRegression\n",
    "from sklearn.metrics import mean_squared_error\n",
    "from sklearn.model_selection import cross_val_score\n",
    "from sklearn.model_selection import train_test_split\n",
    "from sklearn.preprocessing import OrdinalEncoder\n",
    "from sklearn.tree import DecisionTreeRegressor\n",
    "\n",
    "from summarytools import dfSummary\n",
    "\n",
    "import warnings\n",
    "warnings.filterwarnings('ignore') # We can suppress the warnings"
   ]
  },
  {
   "cell_type": "markdown",
   "id": "bc58433c",
   "metadata": {},
   "source": [
    "# Data Preparation\n",
    "\n",
    "This section we will fetch the csv as follow:\n",
    "\n",
    "Statistic\n",
    "T\n",
    "Unit\n",
    "Value\n",
    "X_1, ..., X_n Random Variables\n",
    "\n",
    "This Section contains a function for each "
   ]
  },
  {
   "cell_type": "code",
   "execution_count": 2,
   "id": "3852cfc3",
   "metadata": {},
   "outputs": [],
   "source": [
    "# Data Preparation\n",
    "\n",
    "# Tourism in Ireland\n",
    "\n",
    "# Source 1\n",
    "# https://www.cso.ie/en/statistics/tourismandtravel/\n",
    "## Tourism and Travel\n",
    "### Household Travel Survey\n",
    "#### Household Travel Survey Quarter 3 2023\n",
    "\n",
    "# Dataset\n",
    "## Name HTQ01: Travel by Irish Residents - Reason for Journey\n",
    "## Filename: ./datasets/HTQ01.20240316T180315_TravelByIrishResidents_ReasonForJourney.csv\n",
    "## Varname: tma09_df_C1\n",
    "\n",
    "\n",
    "# Dataset\n",
    "## Name: Overseas Trips to and from Ireland.Route of Travel\n",
    "## Source: https://ws.cso.ie/public/api.restful/PxStat.Data.Cube_API.ReadDataset/TMA07/CSV/1.0/en\n",
    "## Varname: tma07_df\n",
    "\n",
    "# Name HTQ17: Domestic Travel by Irish Residents - Reason for Journey, Region Visited\n",
    "## Filename: ./datasets/HTQ17.20240317T090350_DomesticTravelByIrishResidents_ReasonDestination.csv\n"
   ]
  },
  {
   "cell_type": "markdown",
   "id": "61003eed",
   "metadata": {},
   "source": [
    "# Helper Functions"
   ]
  },
  {
   "cell_type": "code",
   "execution_count": 3,
   "id": "bdaea1a5",
   "metadata": {},
   "outputs": [],
   "source": [
    "# This function will be used inside a Data Preparatory Function to build\n",
    "# a Pandas Dataframe from a Central Statistics Office Statistic Code\n",
    "def cso_df(cso_stat_code):\n",
    "    return pd.read_csv(\"https://ws.cso.ie/public/api.restful/PxStat.Data.Cube_API.ReadDataset/\"+ cso_stat_code +\"/CSV/1.0/en\")\n",
    "\n",
    "# Note: this function could have been named cso_df_from_code\n",
    "# The name has been reduced as this Jupyter is only using\n",
    "# Central Statistics Office Public API to fetch the data"
   ]
  },
  {
   "cell_type": "markdown",
   "id": "2c6b522b",
   "metadata": {},
   "source": [
    "# Data Preparatory Functions\n",
    "\n",
    "This section contains functions which fetch and manipulate a csv into a Pandas Dataframe. \n",
    "Using a function incapsulate all the steps required to transform the source into a table or a graph. Every function is independent from all the others."
   ]
  },
  {
   "cell_type": "code",
   "execution_count": 18,
   "id": "c92b9597",
   "metadata": {},
   "outputs": [
    {
     "data": {
      "text/html": [
       "<div>\n",
       "<style scoped>\n",
       "    .dataframe tbody tr th:only-of-type {\n",
       "        vertical-align: middle;\n",
       "    }\n",
       "\n",
       "    .dataframe tbody tr th {\n",
       "        vertical-align: top;\n",
       "    }\n",
       "\n",
       "    .dataframe thead th {\n",
       "        text-align: right;\n",
       "    }\n",
       "</style>\n",
       "<table border=\"1\" class=\"dataframe\">\n",
       "  <thead>\n",
       "    <tr style=\"text-align: right;\">\n",
       "      <th></th>\n",
       "      <th>C02173V02619</th>\n",
       "      <th>Area of Residence</th>\n",
       "      <th>TLIST(A1)</th>\n",
       "      <th>Year</th>\n",
       "      <th>STATISTIC</th>\n",
       "      <th>Statistic Label</th>\n",
       "      <th>UNIT</th>\n",
       "      <th>VALUE</th>\n",
       "    </tr>\n",
       "  </thead>\n",
       "  <tbody>\n",
       "    <tr>\n",
       "      <th>6</th>\n",
       "      <td>-</td>\n",
       "      <td>All Countries</td>\n",
       "      <td>2011</td>\n",
       "      <td>2011</td>\n",
       "      <td>TMA09C1</td>\n",
       "      <td>Overseas Trips to Ireland by Non-Residents</td>\n",
       "      <td>Thousand</td>\n",
       "      <td>2011.0</td>\n",
       "    </tr>\n",
       "    <tr>\n",
       "      <th>9</th>\n",
       "      <td>-</td>\n",
       "      <td>All Countries</td>\n",
       "      <td>2012</td>\n",
       "      <td>2012</td>\n",
       "      <td>TMA09C1</td>\n",
       "      <td>Overseas Trips to Ireland by Non-Residents</td>\n",
       "      <td>Thousand</td>\n",
       "      <td>2012.0</td>\n",
       "    </tr>\n",
       "    <tr>\n",
       "      <th>12</th>\n",
       "      <td>-</td>\n",
       "      <td>All Countries</td>\n",
       "      <td>2013</td>\n",
       "      <td>2013</td>\n",
       "      <td>TMA09C1</td>\n",
       "      <td>Overseas Trips to Ireland by Non-Residents</td>\n",
       "      <td>Thousand</td>\n",
       "      <td>2013.0</td>\n",
       "    </tr>\n",
       "    <tr>\n",
       "      <th>15</th>\n",
       "      <td>-</td>\n",
       "      <td>All Countries</td>\n",
       "      <td>2014</td>\n",
       "      <td>2014</td>\n",
       "      <td>TMA09C1</td>\n",
       "      <td>Overseas Trips to Ireland by Non-Residents</td>\n",
       "      <td>Thousand</td>\n",
       "      <td>2014.0</td>\n",
       "    </tr>\n",
       "    <tr>\n",
       "      <th>18</th>\n",
       "      <td>-</td>\n",
       "      <td>All Countries</td>\n",
       "      <td>2015</td>\n",
       "      <td>2015</td>\n",
       "      <td>TMA09C1</td>\n",
       "      <td>Overseas Trips to Ireland by Non-Residents</td>\n",
       "      <td>Thousand</td>\n",
       "      <td>2015.0</td>\n",
       "    </tr>\n",
       "  </tbody>\n",
       "</table>\n",
       "</div>"
      ],
      "text/plain": [
       "   C02173V02619 Area of Residence  TLIST(A1)  Year STATISTIC  \\\n",
       "6             -     All Countries       2011  2011   TMA09C1   \n",
       "9             -     All Countries       2012  2012   TMA09C1   \n",
       "12            -     All Countries       2013  2013   TMA09C1   \n",
       "15            -     All Countries       2014  2014   TMA09C1   \n",
       "18            -     All Countries       2015  2015   TMA09C1   \n",
       "\n",
       "                               Statistic Label      UNIT   VALUE  \n",
       "6   Overseas Trips to Ireland by Non-Residents  Thousand  2011.0  \n",
       "9   Overseas Trips to Ireland by Non-Residents  Thousand  2012.0  \n",
       "12  Overseas Trips to Ireland by Non-Residents  Thousand  2013.0  \n",
       "15  Overseas Trips to Ireland by Non-Residents  Thousand  2014.0  \n",
       "18  Overseas Trips to Ireland by Non-Residents  Thousand  2015.0  "
      ]
     },
     "execution_count": 18,
     "metadata": {},
     "output_type": "execute_result"
    }
   ],
   "source": [
    "#def tma09C1_frequencies():\n",
    "df = cso_df(\"tma09\")\n",
    "\n",
    "df = df[df[\"Statistic Label\"]==\"Overseas Trips to Ireland by Non-Residents\"]\n",
    "\n",
    "# 2009 and 2010 there are missing values. \n",
    "# Remove lines and restrict research to 2011-2019\n",
    "df = df[df[\"Year\"]>=2011]\n",
    "\n",
    "for year in range(2011, 2020):\n",
    "    tot = ((df[df[\"Area of Residence\"]==\"All Countries\"])[df[\"Year\"]==year])[\"VALUE\"].iloc[0]\n",
    "    #df[\"VALUE\"] = (df[df[\"Year\"]==year])\n",
    "    \n",
    "    df.loc[df['Year'] == year, 'VALUE'] = year\n",
    "#df[\"Freq\"] = df[\"VALUE\"].map\n",
    "\n",
    "#return df\n",
    "df.head()"
   ]
  },
  {
   "cell_type": "code",
   "execution_count": 16,
   "id": "0d7d748f",
   "metadata": {},
   "outputs": [],
   "source": [
    "# NAME CONVENTION csoStatCode_bla bla bla\n",
    "\n",
    "def htq01():\n",
    "    return cso_df(\"htq01\")\n",
    "\n",
    "def htq17():\n",
    "    return cso_df(\"htq17\")\n",
    "\n",
    "def tma09():\n",
    "    return cso_df(\"tma09\")\n",
    "\n",
    "\n",
    "\n",
    "def tma09_value():\n",
    "    df = cso_df(\"tma09\")  \n",
    "    \n",
    "    #df = df.loc[:,\"VALUE\"]\n",
    "    df = df[\"VALUE\"]\n",
    "    \n",
    "    return df\n",
    "    \n",
    "\n",
    "\n",
    "#df = tma09C1_frequencies()\n",
    "#df[\"Statistic Label\"].value_counts()\n",
    "#df.head()\n",
    "\n",
    "#df.to_excel(\"tma09.xlsx\")\n",
    "\n",
    "#tma09C1_frequencies()"
   ]
  },
  {
   "cell_type": "markdown",
   "id": "4fb8d359",
   "metadata": {},
   "source": [
    "# Exploratory Data Analysis\n",
    "\n",
    "This part of the Jupyter Notebook will be used as a Terminal to quickly visualize tables in tabular or graphical mode. This Section has a subsection for each Dataset\n"
   ]
  },
  {
   "cell_type": "markdown",
   "id": "d6ec966c",
   "metadata": {},
   "source": [
    "## HTQ01 - Travel by Irish Residents"
   ]
  },
  {
   "cell_type": "code",
   "execution_count": null,
   "id": "bf20ad86",
   "metadata": {},
   "outputs": [],
   "source": [
    "htq01().head()"
   ]
  },
  {
   "cell_type": "code",
   "execution_count": null,
   "id": "af60735e",
   "metadata": {},
   "outputs": [],
   "source": [
    "htq01().shape"
   ]
  },
  {
   "cell_type": "code",
   "execution_count": null,
   "id": "5d8cf87a",
   "metadata": {},
   "outputs": [],
   "source": [
    "htq01().info()"
   ]
  },
  {
   "cell_type": "markdown",
   "id": "a02e545a",
   "metadata": {},
   "source": [
    "## HTQ17 - Domestic Travel By Irish Residents"
   ]
  },
  {
   "cell_type": "code",
   "execution_count": null,
   "id": "7ed0aba6",
   "metadata": {
    "scrolled": true
   },
   "outputs": [],
   "source": [
    "htq17().head()"
   ]
  },
  {
   "cell_type": "code",
   "execution_count": null,
   "id": "9bd03540",
   "metadata": {},
   "outputs": [],
   "source": [
    "htq17().shape"
   ]
  },
  {
   "cell_type": "code",
   "execution_count": null,
   "id": "44b77ada",
   "metadata": {},
   "outputs": [],
   "source": [
    "htq17().describe(include='all')"
   ]
  },
  {
   "cell_type": "code",
   "execution_count": null,
   "id": "39fa3952",
   "metadata": {},
   "outputs": [],
   "source": [
    "htq17()[\"Reason for Journey\"].value_counts()"
   ]
  },
  {
   "cell_type": "code",
   "execution_count": null,
   "id": "a925c955",
   "metadata": {},
   "outputs": [],
   "source": [
    "htq17()[\"Quarter\"].value_counts()"
   ]
  },
  {
   "cell_type": "code",
   "execution_count": null,
   "id": "34ffcef7",
   "metadata": {},
   "outputs": [],
   "source": [
    "htq17()[\"Region Visited\"].value_counts()"
   ]
  },
  {
   "cell_type": "code",
   "execution_count": null,
   "id": "cd219af5",
   "metadata": {},
   "outputs": [],
   "source": [
    "htq17()[\"VALUE\"].isnull().sum()"
   ]
  },
  {
   "cell_type": "code",
   "execution_count": null,
   "id": "472338e9",
   "metadata": {},
   "outputs": [],
   "source": [
    "htq17().hist(column='VALUE')"
   ]
  },
  {
   "cell_type": "code",
   "execution_count": null,
   "id": "3f144e7f",
   "metadata": {},
   "outputs": [],
   "source": [
    "htq17().hist(column='VALUE', bins=50)"
   ]
  },
  {
   "cell_type": "code",
   "execution_count": null,
   "id": "5088d1cf",
   "metadata": {},
   "outputs": [],
   "source": [
    "skim(htq17())"
   ]
  },
  {
   "cell_type": "code",
   "execution_count": null,
   "id": "f206c138",
   "metadata": {},
   "outputs": [],
   "source": [
    "summary = dfSummary(htq17())\n",
    "summary"
   ]
  },
  {
   "cell_type": "code",
   "execution_count": null,
   "id": "4c25c263",
   "metadata": {},
   "outputs": [],
   "source": [
    "# Read csv from url\n",
    "url = \"https://ws.cso.ie/public/api.restful/PxStat.Data.Cube_API.ReadDataset/HTQ21/CSV/1.0/en\"\n"
   ]
  },
  {
   "cell_type": "code",
   "execution_count": null,
   "id": "b3eb5c65",
   "metadata": {},
   "outputs": [],
   "source": [
    "df = pd.read_csv(url)"
   ]
  },
  {
   "cell_type": "code",
   "execution_count": null,
   "id": "fba5067a",
   "metadata": {},
   "outputs": [],
   "source": [
    "df.head()"
   ]
  },
  {
   "cell_type": "code",
   "execution_count": null,
   "id": "ec3ebaa9",
   "metadata": {},
   "outputs": [],
   "source": [
    "df.shape"
   ]
  },
  {
   "cell_type": "code",
   "execution_count": null,
   "id": "b0f2de42",
   "metadata": {},
   "outputs": [],
   "source": [
    "dfSummary(df)"
   ]
  },
  {
   "cell_type": "code",
   "execution_count": null,
   "id": "c04b2b1e",
   "metadata": {},
   "outputs": [],
   "source": [
    "# TMA10 - Estimated Expenditure by Overseas Travellers to Ireland"
   ]
  },
  {
   "cell_type": "code",
   "execution_count": null,
   "id": "3458f7df",
   "metadata": {},
   "outputs": [],
   "source": [
    "tma10_df = pd.read_csv(\"https://ws.cso.ie/public/api.restful/PxStat.Data.Cube_API.ReadDataset/TMA10/CSV/1.0/en\")"
   ]
  },
  {
   "cell_type": "code",
   "execution_count": null,
   "id": "7869e10f",
   "metadata": {},
   "outputs": [],
   "source": [
    "tma10_df.head()"
   ]
  },
  {
   "cell_type": "code",
   "execution_count": null,
   "id": "38350e03",
   "metadata": {},
   "outputs": [],
   "source": [
    "tma10_df.shape"
   ]
  },
  {
   "cell_type": "code",
   "execution_count": null,
   "id": "4640d1a3",
   "metadata": {},
   "outputs": [],
   "source": [
    "dfSummary(tma10_df)"
   ]
  },
  {
   "cell_type": "code",
   "execution_count": null,
   "id": "f0c10e67",
   "metadata": {},
   "outputs": [],
   "source": [
    "# TMA09 - Overseas Trips (incl. Expenditure) to Ireland"
   ]
  },
  {
   "cell_type": "code",
   "execution_count": null,
   "id": "8b6505e3",
   "metadata": {},
   "outputs": [],
   "source": [
    "tma09_df = pd.read_csv(\"https://ws.cso.ie/public/api.restful/PxStat.Data.Cube_API.ReadDataset/TMA09/CSV/1.0/en\")"
   ]
  },
  {
   "cell_type": "code",
   "execution_count": null,
   "id": "e21dc3cd",
   "metadata": {},
   "outputs": [],
   "source": [
    "tma09_df.head(33)"
   ]
  },
  {
   "cell_type": "code",
   "execution_count": null,
   "id": "b9daad47",
   "metadata": {},
   "outputs": [],
   "source": [
    "tma09_df.shape"
   ]
  },
  {
   "cell_type": "code",
   "execution_count": null,
   "id": "24cf3da5",
   "metadata": {},
   "outputs": [],
   "source": [
    "tma09_df.describe(include=\"all\")"
   ]
  },
  {
   "cell_type": "code",
   "execution_count": null,
   "id": "0165862d",
   "metadata": {},
   "outputs": [],
   "source": [
    "dfSummary(tma09_df)"
   ]
  },
  {
   "cell_type": "code",
   "execution_count": null,
   "id": "6fdd0be4",
   "metadata": {},
   "outputs": [],
   "source": [
    "tma09_df[\"C02173V02619\"].value_counts()"
   ]
  },
  {
   "cell_type": "code",
   "execution_count": null,
   "id": "a4c708c6",
   "metadata": {},
   "outputs": [],
   "source": [
    "tma09_df_C1 = tma09_df[tma09_df[\"STATISTIC\"]==\"TMA09C1\"]"
   ]
  },
  {
   "cell_type": "code",
   "execution_count": null,
   "id": "9a029318",
   "metadata": {},
   "outputs": [],
   "source": [
    "tma09_df_C1.head(10)"
   ]
  },
  {
   "cell_type": "code",
   "execution_count": null,
   "id": "5b9c4eeb",
   "metadata": {},
   "outputs": [],
   "source": [
    "# Number of Overseas Trips trend"
   ]
  },
  {
   "cell_type": "code",
   "execution_count": null,
   "id": "394ca1e2",
   "metadata": {},
   "outputs": [],
   "source": [
    "sns.barplot(x=tma09_df_C1[\"Year\"], y=tma09_df_C1[\"VALUE\"])"
   ]
  },
  {
   "cell_type": "code",
   "execution_count": null,
   "id": "f9cde05a",
   "metadata": {},
   "outputs": [],
   "source": [
    "# matplotlib test \n",
    "\n",
    "\n",
    "plt.style.use('_mpl-gallery')\n",
    "\n",
    "# make data:\n",
    "x = 0.5 + np.arange(8)\n",
    "y = [4.8, 5.5, 3.5, 4.6, 6.5, 6.6, 2.6, 3.0]\n",
    "\n",
    "\n",
    "type(y)\n"
   ]
  },
  {
   "cell_type": "code",
   "execution_count": null,
   "id": "90ac8c7d",
   "metadata": {},
   "outputs": [],
   "source": [
    "x = tma09_df_C1[\"Year\"].values\n",
    "y = tma09_df_C1[\"VALUE\"].values\n",
    "\n"
   ]
  },
  {
   "cell_type": "code",
   "execution_count": null,
   "id": "6c810649",
   "metadata": {},
   "outputs": [],
   "source": [
    "# plot\n",
    "fig, ax = plt.subplots()\n",
    "\n",
    "ax.bar(x, y, width=1, edgecolor=\"white\", linewidth=0.7)\n",
    "\n",
    "#ax.set(xlim=(0, 8), xticks=np.arange(1, 8),\n",
    "#       ylim=(0, 8), yticks=np.arange(1, 8))\n",
    "\n",
    "plt.show()"
   ]
  },
  {
   "cell_type": "code",
   "execution_count": null,
   "id": "ea171e9a",
   "metadata": {},
   "outputs": [],
   "source": [
    "#seaboarn\n",
    "\n",
    "# Apply the default theme\n",
    "sns.set_theme()\n",
    "\n",
    "# Load an example dataset\n",
    "tips = sns.load_dataset(\"tips\")\n",
    "\n",
    "tips.head()\n"
   ]
  },
  {
   "cell_type": "code",
   "execution_count": null,
   "id": "6221b12e",
   "metadata": {},
   "outputs": [],
   "source": [
    "# PANDAS ORDER BY\n",
    "tma09_df_C1.sort_values(\"VALUE\").sort_values(\"Area of Residence\").sort_values(\"Year\")"
   ]
  },
  {
   "cell_type": "code",
   "execution_count": null,
   "id": "82c11baf",
   "metadata": {},
   "outputs": [],
   "source": [
    "# PANDAS SELECT ROWS\n",
    "tma09_df_C1_2019 = tma09_df_C1[tma09_df_C1[\"Year\"]==2019]\n",
    "tma09_df_C1_2019.head(100)\n",
    "\n",
    "\n",
    "# PANDAS RENAME COLUMN\n",
    "tma09_df_C1_2019 = tma09_df_C1_2019.rename(columns={\"C02173V02619\":\"Country Code\"})\n",
    "\n",
    "#tma09_df_C1_2020.to_excel(\"tabella.xlsx\")"
   ]
  },
  {
   "cell_type": "code",
   "execution_count": null,
   "id": "05f45f71",
   "metadata": {},
   "outputs": [],
   "source": [
    "# Visualization: seaborn distplot\n",
    "sns.set_theme(style=\"darkgrid\")\n",
    "\n",
    "# setting the dimensions of the plot\n",
    "fig, ax = plt.subplots(figsize=(8, 4))\n",
    " \n",
    "# drawing the plot\n",
    "sns.barplot(data=tma09_df_C1_2019.sort_values(\"VALUE\")[tma09_df_C1_2019[\"Area of Residence\"]!=\"All Countries\"], y=\"Area of Residence\", x=\"VALUE\",  ax=ax)\n",
    "plt.show()\n",
    "\n",
    "#sns.lineplot(\n",
    "#    tma09_df_C1_2020, x=\"C02173V02619\", y=\"VALUE\"\n",
    "#)\n",
    "\n"
   ]
  },
  {
   "cell_type": "code",
   "execution_count": null,
   "id": "0924d88e",
   "metadata": {},
   "outputs": [],
   "source": [
    "tma09_df_C1[\"Statistic Label\"].unique()"
   ]
  },
  {
   "cell_type": "code",
   "execution_count": null,
   "id": "148f1310",
   "metadata": {},
   "outputs": [],
   "source": [
    "\n",
    "# Year and VALUE\n",
    "\n",
    "sns.relplot(\n",
    "    data=tma09_df_C1,\n",
    "    x=\"Year\", y=\"VALUE\", hue=\"Area of Residence\",\n",
    ")"
   ]
  },
  {
   "cell_type": "code",
   "execution_count": null,
   "id": "50b1137c",
   "metadata": {},
   "outputs": [],
   "source": [
    "# Create a visualization\n",
    "sns.relplot(\n",
    "    data=tips,\n",
    "    x=\"total_bill\", y=\"tip\", col=\"time\",\n",
    "    hue=\"smoker\", style=\"smoker\", size=\"size\",\n",
    ")"
   ]
  },
  {
   "cell_type": "code",
   "execution_count": null,
   "id": "5b9f20aa",
   "metadata": {},
   "outputs": [],
   "source": [
    "tma09_df_C1.head(20)"
   ]
  },
  {
   "cell_type": "code",
   "execution_count": null,
   "id": "46db6fd0",
   "metadata": {},
   "outputs": [],
   "source": [
    "tma09_df_C1_ds = tma09_df_C1.dropna(axis=0)\n",
    "tma09_df_C1_ds.head(20)"
   ]
  },
  {
   "cell_type": "code",
   "execution_count": null,
   "id": "9ab0d938",
   "metadata": {
    "scrolled": true
   },
   "outputs": [],
   "source": [
    "tma09_df_C1_ds.isnull().values.any()"
   ]
  },
  {
   "cell_type": "code",
   "execution_count": null,
   "id": "14b2f990",
   "metadata": {},
   "outputs": [],
   "source": [
    "tma09_df_C1_ds = tma09_df_C1_ds[tma09_df_C1_ds[\"Area of Residence\"]!=\"All Countries\"]"
   ]
  },
  {
   "cell_type": "code",
   "execution_count": null,
   "id": "d784b017",
   "metadata": {},
   "outputs": [],
   "source": [
    "# Removing columns\n",
    "tma09_df_C1_ds_clean = tma09_df_C1_ds.drop(['C02173V02619', 'TLIST(A1)', 'STATISTIC', 'Statistic Label', 'UNIT'],axis=1)\n",
    "# Separating dataset from labels\n",
    "#tma09_df_C1_ds = tma09_df_C1.iloc[:,:7]\n",
    "\n",
    "\n",
    "#tma09_df_C1_labels = tma09_df_C1_ds.iloc[:,7]\n",
    "#tma09_df_C1_ds = tma09_df_C1_ds_clean\n",
    "#tma09_df_C1_labels.head()\n"
   ]
  },
  {
   "cell_type": "code",
   "execution_count": null,
   "id": "0240e419",
   "metadata": {},
   "outputs": [],
   "source": [
    "tma09_df_C1_ds_clean.head()"
   ]
  },
  {
   "cell_type": "code",
   "execution_count": null,
   "id": "dde11b63",
   "metadata": {},
   "outputs": [],
   "source": [
    "tma09_df_C1_ds_clean = tma09_df_C1_ds_clean[tma09_df_C1_ds_clean[\"Area of Residence\"]!=\"All Countries\"]\n",
    "tma09_df_C1_ds_clean.head(100)"
   ]
  },
  {
   "cell_type": "code",
   "execution_count": null,
   "id": "dda4807f",
   "metadata": {
    "scrolled": true
   },
   "outputs": [],
   "source": [
    "tma09_df_C1_labels = tma09_df_C1_ds_clean.drop([\"Area of Residence\", \"Year\"], axis=1)\n",
    "tma09_df_C1_labels.head()"
   ]
  },
  {
   "cell_type": "code",
   "execution_count": null,
   "id": "7f113ea3",
   "metadata": {},
   "outputs": [],
   "source": [
    "tma09_df_C1_ds_clean = tma09_df_C1_ds_clean.drop([\"VALUE\"], axis=1)\n",
    "tma09_df_C1_ds_clean.head()"
   ]
  },
  {
   "cell_type": "markdown",
   "id": "f883a049",
   "metadata": {},
   "source": [
    "# Ordinal Encoder"
   ]
  },
  {
   "cell_type": "code",
   "execution_count": null,
   "id": "649123f9",
   "metadata": {},
   "outputs": [],
   "source": [
    "\n",
    "\n",
    "encoder = OrdinalEncoder()\n",
    "tma09_df_C1_ds_clean[\"Area of Residence\"] = encoder.fit_transform(tma09_df_C1_ds_clean[[\"Area of Residence\"]])\n",
    "\n",
    "tma09_df_C1_ds_clean.head()\n"
   ]
  },
  {
   "cell_type": "code",
   "execution_count": null,
   "id": "35d638bf",
   "metadata": {},
   "outputs": [],
   "source": [
    "\n",
    "tma09_df_C1_train_ds,tma09_df_C1_test_ds,tma09_df_C1_train_label,tma09_df_C1_test_label = train_test_split(tma09_df_C1_ds_clean, \n",
    "                                                                tma09_df_C1_labels, test_size=0.2, random_state=42)"
   ]
  },
  {
   "cell_type": "code",
   "execution_count": null,
   "id": "d6aff43c",
   "metadata": {},
   "outputs": [],
   "source": [
    "# Linear Model\n"
   ]
  },
  {
   "cell_type": "code",
   "execution_count": null,
   "id": "15db58b3",
   "metadata": {},
   "outputs": [],
   "source": [
    "lin_reg = LinearRegression()\n",
    "lin_reg.fit(tma09_df_C1_train_ds, tma09_df_C1_train_label)"
   ]
  },
  {
   "cell_type": "code",
   "execution_count": null,
   "id": "4e3b94e6",
   "metadata": {},
   "outputs": [],
   "source": [
    "some_data = tma09_df_C1_ds_clean.loc[:100]\n",
    "some_labels = tma09_df_C1_labels.loc[:100]"
   ]
  },
  {
   "cell_type": "code",
   "execution_count": null,
   "id": "9f8f04a2",
   "metadata": {},
   "outputs": [],
   "source": [
    "print(some_labels)"
   ]
  },
  {
   "cell_type": "code",
   "execution_count": null,
   "id": "52d1d207",
   "metadata": {},
   "outputs": [],
   "source": [
    "lin_reg.predict(some_data)"
   ]
  },
  {
   "cell_type": "code",
   "execution_count": null,
   "id": "832dc1eb",
   "metadata": {},
   "outputs": [],
   "source": [
    "print(some_labels)"
   ]
  },
  {
   "cell_type": "code",
   "execution_count": null,
   "id": "d5e1f1cb",
   "metadata": {},
   "outputs": [],
   "source": [
    "# Measure mean_squared_error\n",
    "\n",
    "label_predictions = lin_reg.predict(some_data)\n",
    "lin_mse = mean_squared_error(some_labels, label_predictions)\n",
    "lin_rmse = np.sqrt(lin_mse)\n",
    "lin_rmse"
   ]
  },
  {
   "cell_type": "code",
   "execution_count": null,
   "id": "2fe0b5d8",
   "metadata": {},
   "outputs": [],
   "source": [
    "# The model is underfitting"
   ]
  },
  {
   "cell_type": "code",
   "execution_count": null,
   "id": "23636c99",
   "metadata": {},
   "outputs": [],
   "source": [
    "# Decision Tree Regressor -  Better than Linear Regression\n",
    "\n",
    "\n",
    "tree_reg = DecisionTreeRegressor()\n",
    "tree_reg.fit(tma09_df_C1_train_ds, tma09_df_C1_train_label)\n",
    "label_predictions = tree_reg.predict(some_data)\n",
    "\n",
    "tree_mse = mean_squared_error(some_labels, label_predictions)\n",
    "tree_rmse = np.sqrt(tree_mse)\n",
    "tree_rmse"
   ]
  },
  {
   "cell_type": "code",
   "execution_count": null,
   "id": "473eeca9",
   "metadata": {},
   "outputs": [],
   "source": [
    "print(some_labels)"
   ]
  },
  {
   "cell_type": "code",
   "execution_count": null,
   "id": "d25259e0",
   "metadata": {},
   "outputs": [],
   "source": [
    "print(label_predictions)"
   ]
  },
  {
   "cell_type": "code",
   "execution_count": null,
   "id": "3067bab2",
   "metadata": {},
   "outputs": [],
   "source": [
    "# K-fold  cross-validation for Decision Tree Regressor\n",
    "\n",
    "scores = cross_val_score(tree_reg, tma09_df_C1_train_ds, tma09_df_C1_train_label, scoring=\"neg_mean_squared_error\", cv=10)\n",
    "\n",
    "tree_rmse_scores = np.sqrt(-scores)"
   ]
  },
  {
   "cell_type": "code",
   "execution_count": null,
   "id": "8a178cc1",
   "metadata": {},
   "outputs": [],
   "source": [
    "print(\"Scores: \", scores)\n",
    "print(\"Mean: \", scores.mean())\n",
    "print(\"Std: \", scores.std())"
   ]
  },
  {
   "cell_type": "code",
   "execution_count": null,
   "id": "0c41e45c",
   "metadata": {},
   "outputs": [],
   "source": [
    "# K-fold  cross-validation for Linear Regression\n",
    "\n",
    "scores = cross_val_score(lin_reg, tma09_df_C1_train_ds, tma09_df_C1_train_label, scoring=\"neg_mean_squared_error\", cv=10)\n",
    "\n",
    "tree_rmse_scores = np.sqrt(-scores)\n",
    "\n",
    "print(\"Scores: \", scores)\n",
    "print(\"Mean: \", scores.mean())\n",
    "print(\"Std: \", scores.std())"
   ]
  },
  {
   "cell_type": "code",
   "execution_count": null,
   "id": "40f82b52",
   "metadata": {},
   "outputs": [],
   "source": [
    "# Random Forest Regressor\n",
    "\n",
    "forest_reg = RandomForestRegressor()\n",
    "forest_reg.fit(tma09_df_C1_train_ds, tma09_df_C1_train_label)\n",
    "\n",
    "label_predictions = lin_reg.predict(some_data)\n",
    "forest_mse = mean_squared_error(some_labels, label_predictions)\n",
    "forest_rmse = np.sqrt(forest_mse)\n",
    "print(\"forest_rmse: \", forest_rmse)\n",
    "\n",
    "scores = cross_val_score(forest_reg, tma09_df_C1_train_ds, tma09_df_C1_train_label, scoring=\"neg_mean_squared_error\", cv=10)\n",
    "\n",
    "forest_rmse_scores = np.sqrt(-scores)\n",
    "\n",
    "print(\"Scores: \", scores)\n",
    "print(\"Mean: \", scores.mean())\n",
    "print(\"Std: \", scores.std())\n"
   ]
  },
  {
   "cell_type": "code",
   "execution_count": null,
   "id": "1f053cde",
   "metadata": {},
   "outputs": [],
   "source": []
  }
 ],
 "metadata": {
  "kernelspec": {
   "display_name": "Python 3 (ipykernel)",
   "language": "python",
   "name": "python3"
  },
  "language_info": {
   "codemirror_mode": {
    "name": "ipython",
    "version": 3
   },
   "file_extension": ".py",
   "mimetype": "text/x-python",
   "name": "python",
   "nbconvert_exporter": "python",
   "pygments_lexer": "ipython3",
   "version": "3.11.5"
  }
 },
 "nbformat": 4,
 "nbformat_minor": 5
}
